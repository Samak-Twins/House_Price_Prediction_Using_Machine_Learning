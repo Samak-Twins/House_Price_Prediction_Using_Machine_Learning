{
 "cells": [
  {
   "cell_type": "code",
   "execution_count": 1,
   "metadata": {},
   "outputs": [],
   "source": [
    "import numpy as np\n",
    "import pandas as pd\n",
    "import matplotlib.pyplot as plt\n",
    "%matplotlib inline"
   ]
  },
  {
   "cell_type": "code",
   "execution_count": 2,
   "metadata": {},
   "outputs": [
    {
     "data": {
      "text/html": [
       "<div>\n",
       "<style scoped>\n",
       "    .dataframe tbody tr th:only-of-type {\n",
       "        vertical-align: middle;\n",
       "    }\n",
       "\n",
       "    .dataframe tbody tr th {\n",
       "        vertical-align: top;\n",
       "    }\n",
       "\n",
       "    .dataframe thead th {\n",
       "        text-align: right;\n",
       "    }\n",
       "</style>\n",
       "<table border=\"1\" class=\"dataframe\">\n",
       "  <thead>\n",
       "    <tr style=\"text-align: right;\">\n",
       "      <th></th>\n",
       "      <th>Size</th>\n",
       "      <th>Price</th>\n",
       "    </tr>\n",
       "  </thead>\n",
       "  <tbody>\n",
       "    <tr>\n",
       "      <th>0</th>\n",
       "      <td>502.69</td>\n",
       "      <td>6.3</td>\n",
       "    </tr>\n",
       "    <tr>\n",
       "      <th>1</th>\n",
       "      <td>503.65</td>\n",
       "      <td>6.3</td>\n",
       "    </tr>\n",
       "    <tr>\n",
       "      <th>2</th>\n",
       "      <td>505.46</td>\n",
       "      <td>6.5</td>\n",
       "    </tr>\n",
       "    <tr>\n",
       "      <th>3</th>\n",
       "      <td>505.94</td>\n",
       "      <td>6.5</td>\n",
       "    </tr>\n",
       "    <tr>\n",
       "      <th>4</th>\n",
       "      <td>507.02</td>\n",
       "      <td>6.6</td>\n",
       "    </tr>\n",
       "  </tbody>\n",
       "</table>\n",
       "</div>"
      ],
      "text/plain": [
       "     Size  Price\n",
       "0  502.69    6.3\n",
       "1  503.65    6.3\n",
       "2  505.46    6.5\n",
       "3  505.94    6.5\n",
       "4  507.02    6.6"
      ]
     },
     "execution_count": 2,
     "metadata": {},
     "output_type": "execute_result"
    }
   ],
   "source": [
    "import os\n",
    "path = os.getcwd() + '\\Data\\House_Price_Training_Data.csv'\n",
    "org_data = pd.read_csv(path)\n",
    "org_data.head()"
   ]
  },
  {
   "cell_type": "code",
   "execution_count": 3,
   "metadata": {},
   "outputs": [
    {
     "data": {
      "text/plain": [
       "<matplotlib.axes._subplots.AxesSubplot at 0x9c2dfd0>"
      ]
     },
     "execution_count": 3,
     "metadata": {},
     "output_type": "execute_result"
    },
    {
     "data": {
      "image/png": "[encoded data removed]",
      "text/plain": [
       "<matplotlib.figure.Figure at 0x9bf4cc0>"
      ]
     },
     "metadata": {},
     "output_type": "display_data"
    }
   ],
   "source": [
    "org_data.plot(kind='scatter', x='Size', y='Price', figsize=(10,5) )"
   ]
  },
  {
   "cell_type": "code",
   "execution_count": 4,
   "metadata": {},
   "outputs": [
    {
     "data": {
      "text/html": [
       "<div>\n",
       "<style scoped>\n",
       "    .dataframe tbody tr th:only-of-type {\n",
       "        vertical-align: middle;\n",
       "    }\n",
       "\n",
       "    .dataframe tbody tr th {\n",
       "        vertical-align: top;\n",
       "    }\n",
       "\n",
       "    .dataframe thead th {\n",
       "        text-align: right;\n",
       "    }\n",
       "</style>\n",
       "<table border=\"1\" class=\"dataframe\">\n",
       "  <thead>\n",
       "    <tr style=\"text-align: right;\">\n",
       "      <th></th>\n",
       "      <th>Size</th>\n",
       "      <th>Price</th>\n",
       "    </tr>\n",
       "  </thead>\n",
       "  <tbody>\n",
       "    <tr>\n",
       "      <th>0</th>\n",
       "      <td>-0.182399</td>\n",
       "      <td>-0.169891</td>\n",
       "    </tr>\n",
       "    <tr>\n",
       "      <th>1</th>\n",
       "      <td>-0.181840</td>\n",
       "      <td>-0.169891</td>\n",
       "    </tr>\n",
       "    <tr>\n",
       "      <th>2</th>\n",
       "      <td>-0.180786</td>\n",
       "      <td>-0.167394</td>\n",
       "    </tr>\n",
       "    <tr>\n",
       "      <th>3</th>\n",
       "      <td>-0.180507</td>\n",
       "      <td>-0.167394</td>\n",
       "    </tr>\n",
       "    <tr>\n",
       "      <th>4</th>\n",
       "      <td>-0.179878</td>\n",
       "      <td>-0.166145</td>\n",
       "    </tr>\n",
       "  </tbody>\n",
       "</table>\n",
       "</div>"
      ],
      "text/plain": [
       "       Size     Price\n",
       "0 -0.182399 -0.169891\n",
       "1 -0.181840 -0.169891\n",
       "2 -0.180786 -0.167394\n",
       "3 -0.180507 -0.167394\n",
       "4 -0.179878 -0.166145"
      ]
     },
     "execution_count": 4,
     "metadata": {},
     "output_type": "execute_result"
    }
   ],
   "source": [
    "data = (org_data - org_data.mean())/(org_data.max() - org_data.min())\n",
    "data.head()"
   ]
  },
  {
   "cell_type": "code",
   "execution_count": 5,
   "metadata": {},
   "outputs": [
    {
     "data": {
      "text/plain": [
       "<matplotlib.axes._subplots.AxesSubplot at 0xb421f98>"
      ]
     },
     "execution_count": 5,
     "metadata": {},
     "output_type": "execute_result"
    },
    {
     "data": {
      "image/png": "[encoded data removed]",
      "text/plain": [
       "<matplotlib.figure.Figure at 0xa162518>"
      ]
     },
     "metadata": {},
     "output_type": "display_data"
    }
   ],
   "source": [
    "data.plot(kind='scatter', x='Size', y='Price', figsize=(10,5) )"
   ]
  },
  {
   "cell_type": "code",
   "execution_count": 6,
   "metadata": {},
   "outputs": [
    {
     "data": {
      "text/plain": [
       "(97, 2)"
      ]
     },
     "execution_count": 6,
     "metadata": {},
     "output_type": "execute_result"
    }
   ],
   "source": [
    "data.shape"
   ]
  },
  {
   "cell_type": "code",
   "execution_count": 7,
   "metadata": {},
   "outputs": [
    {
     "data": {
      "text/html": [
       "<div>\n",
       "<style scoped>\n",
       "    .dataframe tbody tr th:only-of-type {\n",
       "        vertical-align: middle;\n",
       "    }\n",
       "\n",
       "    .dataframe tbody tr th {\n",
       "        vertical-align: top;\n",
       "    }\n",
       "\n",
       "    .dataframe thead th {\n",
       "        text-align: right;\n",
       "    }\n",
       "</style>\n",
       "<table border=\"1\" class=\"dataframe\">\n",
       "  <thead>\n",
       "    <tr style=\"text-align: right;\">\n",
       "      <th></th>\n",
       "      <th>Ones</th>\n",
       "      <th>Size</th>\n",
       "      <th>Price</th>\n",
       "    </tr>\n",
       "  </thead>\n",
       "  <tbody>\n",
       "    <tr>\n",
       "      <th>0</th>\n",
       "      <td>1</td>\n",
       "      <td>-0.182399</td>\n",
       "      <td>-0.169891</td>\n",
       "    </tr>\n",
       "    <tr>\n",
       "      <th>1</th>\n",
       "      <td>1</td>\n",
       "      <td>-0.181840</td>\n",
       "      <td>-0.169891</td>\n",
       "    </tr>\n",
       "    <tr>\n",
       "      <th>2</th>\n",
       "      <td>1</td>\n",
       "      <td>-0.180786</td>\n",
       "      <td>-0.167394</td>\n",
       "    </tr>\n",
       "    <tr>\n",
       "      <th>3</th>\n",
       "      <td>1</td>\n",
       "      <td>-0.180507</td>\n",
       "      <td>-0.167394</td>\n",
       "    </tr>\n",
       "    <tr>\n",
       "      <th>4</th>\n",
       "      <td>1</td>\n",
       "      <td>-0.179878</td>\n",
       "      <td>-0.166145</td>\n",
       "    </tr>\n",
       "  </tbody>\n",
       "</table>\n",
       "</div>"
      ],
      "text/plain": [
       "   Ones      Size     Price\n",
       "0     1 -0.182399 -0.169891\n",
       "1     1 -0.181840 -0.169891\n",
       "2     1 -0.180786 -0.167394\n",
       "3     1 -0.180507 -0.167394\n",
       "4     1 -0.179878 -0.166145"
      ]
     },
     "execution_count": 7,
     "metadata": {},
     "output_type": "execute_result"
    }
   ],
   "source": [
    "data.insert (0, 'Ones', 1)\n",
    "data.head()"
   ]
  },
  {
   "cell_type": "code",
   "execution_count": 8,
   "metadata": {},
   "outputs": [
    {
     "name": "stdout",
     "output_type": "stream",
     "text": [
      "3\n"
     ]
    }
   ],
   "source": [
    "cols = data.shape[1]\n",
    "print (cols)"
   ]
  },
  {
   "cell_type": "code",
   "execution_count": 9,
   "metadata": {},
   "outputs": [],
   "source": [
    "x = data.iloc[:,0:cols-1]\n",
    "y = data.iloc[:,cols-1:cols]"
   ]
  },
  {
   "cell_type": "code",
   "execution_count": 10,
   "metadata": {},
   "outputs": [],
   "source": [
    "x = np.matrix(x)\n",
    "y = np.matrix(y)\n",
    "theta = np.matrix(np.array([0,0]))"
   ]
  },
  {
   "cell_type": "code",
   "execution_count": 11,
   "metadata": {},
   "outputs": [
    {
     "data": {
      "text/plain": [
       "((97, 2), (1, 2), (97, 1))"
      ]
     },
     "execution_count": 11,
     "metadata": {},
     "output_type": "execute_result"
    }
   ],
   "source": [
    "x.shape, theta.shape, y.shape"
   ]
  },
  {
   "cell_type": "code",
   "execution_count": 12,
   "metadata": {},
   "outputs": [],
   "source": [
    "def computeError(x, y, theta):\n",
    "    inner = np.power(((x*theta.T)-y), 2)\n",
    "    return np.sum(inner)/(2*len(x))"
   ]
  },
  {
   "cell_type": "code",
   "execution_count": 13,
   "metadata": {},
   "outputs": [
    {
     "data": {
      "text/plain": [
       "0.024346853685025278"
      ]
     },
     "execution_count": 13,
     "metadata": {},
     "output_type": "execute_result"
    }
   ],
   "source": [
    "computeError(x, y, theta)"
   ]
  },
  {
   "cell_type": "code",
   "execution_count": 14,
   "metadata": {},
   "outputs": [],
   "source": [
    "Learn_rate=1\n",
    "iters=150\n",
    "def gradientDescent(x,y,theta,Learn_Rate,iters):\n",
    "    temp=np.matrix(np.zeros(theta.shape))\n",
    "    parameters=int(theta.ravel().shape[1])\n",
    "    cost=np.zeros(iters)\n",
    "    \n",
    "    for i in range(iters):\n",
    "        error=(x*theta.T)-y\n",
    "        \n",
    "        for j in range(parameters):\n",
    "            term=np.multiply(error,x[:,j])\n",
    "            temp[0,j]=theta[0,j]-((Learn_rate/len(x))*np.sum(term))\n",
    "            \n",
    "        theta=temp\n",
    "        cost[i]=computeError(x,y,theta)\n",
    "        \n",
    "    return theta,cost"
   ]
  },
  {
   "cell_type": "code",
   "execution_count": 15,
   "metadata": {
    "scrolled": true
   },
   "outputs": [
    {
     "name": "stdout",
     "output_type": "stream",
     "text": [
      "[[ -1.02116196e-16   9.82955251e-01]] [  2.19673183e-02   1.98208708e-02   1.78846789e-02   1.61381471e-02\n",
      "   1.45626971e-02   1.31415706e-02   1.18596508e-02   1.07033016e-02\n",
      "   9.66022291e-03   8.71931915e-03   7.87058178e-03   7.10498263e-03\n",
      "   6.41437789e-03   5.79142147e-03   5.22948685e-03   4.72259664e-03\n",
      "   4.26535895e-03   3.85291006e-03   3.48086268e-03   3.14525926e-03\n",
      "   2.84252994e-03   2.56945453e-03   2.32312827e-03   2.10093094e-03\n",
      "   1.90049899e-03   1.71970039e-03   1.55661194e-03   1.40949886e-03\n",
      "   1.27679627e-03   1.15709258e-03   1.04911449e-03   9.51713408e-04\n",
      "   8.63853270e-04   7.84599488e-04   7.13109024e-04   6.48621422e-04\n",
      "   5.90450714e-04   5.37978129e-04   4.90645505e-04   4.47949357e-04\n",
      "   4.09435518e-04   3.74694309e-04   3.43356182e-04   3.15087786e-04\n",
      "   2.89588427e-04   2.66586861e-04   2.45838419e-04   2.27122393e-04\n",
      "   2.10239700e-04   1.95010753e-04   1.81273561e-04   1.68881998e-04\n",
      "   1.57704253e-04   1.47621426e-04   1.38526264e-04   1.30322020e-04\n",
      "   1.22921424e-04   1.16245755e-04   1.10224003e-04   1.04792112e-04\n",
      "   9.98923035e-05   9.54724563e-05   9.14855561e-05   8.78891934e-05\n",
      "   8.46451130e-05   8.17188072e-05   7.90791481e-05   7.66980574e-05\n",
      "   7.45502068e-05   7.26127493e-05   7.08650758e-05   6.92885960e-05\n",
      "   6.78665406e-05   6.65837828e-05   6.54266778e-05   6.43829173e-05\n",
      "   6.34413985e-05   6.25921063e-05   6.18260067e-05   6.11349506e-05\n",
      "   6.05115869e-05   5.99492850e-05   5.94420635e-05   5.89845269e-05\n",
      "   5.85718084e-05   5.81995178e-05   5.78636950e-05   5.75607678e-05\n",
      "   5.72875139e-05   5.70410267e-05   5.68186841e-05   5.66181211e-05\n",
      "   5.64372043e-05   5.62740093e-05   5.61268000e-05   5.59940107e-05\n",
      "   5.58742288e-05   5.57661801e-05   5.56687154e-05   5.55807978e-05\n",
      "   5.55014922e-05   5.54299550e-05   5.53654252e-05   5.53072165e-05\n",
      "   5.52547096e-05   5.52073461e-05   5.51646220e-05   5.51260830e-05\n",
      "   5.50913191e-05   5.50599605e-05   5.50316736e-05   5.50061576e-05\n",
      "   5.49831410e-05   5.49623790e-05   5.49436507e-05   5.49267570e-05\n",
      "   5.49115181e-05   5.48977719e-05   5.48853722e-05   5.48741872e-05\n",
      "   5.48640978e-05   5.48549967e-05   5.48467871e-05   5.48393816e-05\n",
      "   5.48327016e-05   5.48266759e-05   5.48212405e-05   5.48163374e-05\n",
      "   5.48119147e-05   5.48079252e-05   5.48043265e-05   5.48010803e-05\n",
      "   5.47981521e-05   5.47955107e-05   5.47931280e-05   5.47909788e-05\n",
      "   5.47890401e-05   5.47872912e-05   5.47857137e-05   5.47842907e-05\n",
      "   5.47830072e-05   5.47818493e-05   5.47808048e-05   5.47798627e-05\n",
      "   5.47790129e-05   5.47782463e-05   5.47775548e-05   5.47769310e-05\n",
      "   5.47763683e-05   5.47758608e-05]\n"
     ]
    }
   ],
   "source": [
    "g,cost=gradientDescent(x,y,theta,Learn_rate,iters)\n",
    "print(g,cost)"
   ]
  },
  {
   "cell_type": "code",
   "execution_count": 16,
   "metadata": {},
   "outputs": [],
   "source": [
    "x=data.Size"
   ]
  },
  {
   "cell_type": "code",
   "execution_count": 17,
   "metadata": {},
   "outputs": [],
   "source": [
    "f=g[0,0]+(g[0,1]*x)"
   ]
  },
  {
   "cell_type": "code",
   "execution_count": 18,
   "metadata": {},
   "outputs": [
    {
     "data": {
      "text/plain": [
       "Text(0.5,1,'Predicted Price vs. Size')"
      ]
     },
     "execution_count": 18,
     "metadata": {},
     "output_type": "execute_result"
    },
    {
     "data": {
      "image/png": "[encoded data removed]",
      "text/plain": [
       "<matplotlib.figure.Figure at 0x62ef940>"
      ]
     },
     "metadata": {},
     "output_type": "display_data"
    }
   ],
   "source": [
    "fig,ax=plt.subplots(figsize=(12,8))\n",
    "ax.plot(x,f,'r',label='Prediction')\n",
    "ax.scatter(data.Size,data.Price,label='Training Data')\n",
    "ax.legend(loc=2)\n",
    "ax.set_xlabel('Size')\n",
    "ax.set_ylabel('Price')\n",
    "ax.set_title('Predicted Price vs. Size')"
   ]
  },
  {
   "cell_type": "code",
   "execution_count": 19,
   "metadata": {},
   "outputs": [
    {
     "data": {
      "text/plain": [
       "Text(0.5,1,'Error vs. Iterations')"
      ]
     },
     "execution_count": 19,
     "metadata": {},
     "output_type": "execute_result"
    },
    {
     "data": {
      "image/png": "[encoded data removed]",
      "text/plain": [
       "<matplotlib.figure.Figure at 0xb8f1588>"
      ]
     },
     "metadata": {},
     "output_type": "display_data"
    }
   ],
   "source": [
    "fig,ax=plt.subplots(figsize=(12,8))\n",
    "ax.plot(np.arange(iters),cost,'r')\n",
    "ax.set_xlabel('Iterations')\n",
    "ax.set_ylabel('Error')\n",
    "ax.set_title('Error vs. Iterations')"
   ]
  },
  {
   "cell_type": "code",
   "execution_count": 20,
   "metadata": {},
   "outputs": [
    {
     "name": "stdout",
     "output_type": "stream",
     "text": [
      "Accuracy = 99.77501872943576%\n"
     ]
    }
   ],
   "source": [
    "from sklearn.metrics import r2_score\n",
    "acc=(r2_score(y,f))\n",
    "print(\"Accuracy = {}%\".format(acc*100))"
   ]
  },
  {
   "cell_type": "code",
   "execution_count": 21,
   "metadata": {},
   "outputs": [],
   "source": [
    "def predict(theta,acc):\n",
    "    #get input from user\n",
    "    size=float(input(\"Enter the size of the house: \"))\n",
    "    #mean normalization\n",
    "    size=(size-org_data.Size.mean())/(org_data.Size.max()-org_data.Size.min())\n",
    "    #model\n",
    "    price=(theta[0,0]+(theta[0,1]*size))\n",
    "    #reversing mean normalization\n",
    "    new_price=(price*(org_data.Price.max()-org_data.Price.min())+(org_data.Price.mean()))\n",
    "    \n",
    "    price_at_max_acc=(new_price*(1/acc))\n",
    "    price_range=price_at_max_acc-new_price\n",
    "    \n",
    "    return new_price, price_range"
   ]
  },
  {
   "cell_type": "code",
   "execution_count": 25,
   "metadata": {},
   "outputs": [
    {
     "name": "stdout",
     "output_type": "stream",
     "text": [
      "Enter the size of the house: 2000\n",
      "The cost of your house will be 74.1833610601 Lakhs (+ or -) 0.167275005694 Lakhs\n"
     ]
    }
   ],
   "source": [
    "New_price,price_range=predict(g,acc)\n",
    "print(\"The cost of your house will be \"+str(New_price)+' Lakhs'+' (+ or -) '+str(price_range)+' Lakhs')"
   ]
  }
 ],
 "metadata": {
  "kernelspec": {
   "display_name": "Python 3",
   "language": "python",
   "name": "python3"
  },
  "language_info": {
   "codemirror_mode": {
    "name": "ipython",
    "version": 3
   },
   "file_extension": ".py",
   "mimetype": "text/x-python",
   "name": "python",
   "nbconvert_exporter": "python",
   "pygments_lexer": "ipython3",
   "version": "3.6.3"
  }
 },
 "nbformat": 4,
 "nbformat_minor": 2
}
